{
 "cells": [
  {
   "cell_type": "code",
   "execution_count": 1,
   "metadata": {},
   "outputs": [],
   "source": [
    "import os\n",
    "\n",
    "from torch.utils.data import DataLoader\n",
    "\n",
    "from model import Dataset\n",
    "from model import collate_fn"
   ]
  },
  {
   "cell_type": "code",
   "execution_count": 2,
   "metadata": {},
   "outputs": [],
   "source": [
    "dataset_path = 'dataset'\n",
    "\n",
    "train_query_path = os.path.join(dataset_path, 'smart_src.txt')\n",
    "train_gold_reply_path = os.path.join(dataset_path, 'smart_tgt.txt')\n",
    "train_gen_reply_path = None\n",
    "\n",
    "train_data_path_list = [train_query_path, train_gold_reply_path]"
   ]
  },
  {
   "cell_type": "code",
   "execution_count": 3,
   "metadata": {},
   "outputs": [
    {
     "name": "stdout",
     "output_type": "stream",
     "text": [
      "Reading lines...\n",
      "Avg length of data 0 : 6.81\n",
      "Avg length of data 1 : 6.81\n",
      "\n",
      "Read %s sentence pairs 90729\n",
      "Trim data to 90701 sentence pairs \n",
      "\n",
      "Vocabulary size : 26281 (38325 is reduced) \n",
      "\n",
      "Success to preprocess data! \n",
      "\n"
     ]
    }
   ],
   "source": [
    "# Training dataset 구축\n",
    "train_dataset = Dataset(\n",
    "    data_path_list=train_data_path_list,\n",
    "    max_length=35,\n",
    "    min_frequency=4\n",
    ")"
   ]
  },
  {
   "cell_type": "code",
   "execution_count": 13,
   "metadata": {},
   "outputs": [],
   "source": [
    "batch_size = 2"
   ]
  },
  {
   "cell_type": "code",
   "execution_count": 14,
   "metadata": {},
   "outputs": [],
   "source": [
    "train_data_loader = DataLoader(\n",
    "    dataset=train_dataset,\n",
    "    batch_size=batch_size,\n",
    "    collate_fn=collate_fn,\n",
    "    num_workers=16\n",
    ")"
   ]
  },
  {
   "cell_type": "code",
   "execution_count": 15,
   "metadata": {},
   "outputs": [
    {
     "data": {
      "text/plain": [
       "[([8, 7, 55, 5], [58, 83, 5]),\n",
       " (4, 3),\n",
       " ([58, 83, 5], [8, 7, 481, 955, 482, 534, 7, 3441, 14, 766, 10, 66, 5]),\n",
       " (3, 13)]"
      ]
     },
     "execution_count": 15,
     "metadata": {},
     "output_type": "execute_result"
    }
   ],
   "source": [
    "next(iter(train_data_loader))"
   ]
  },
  {
   "cell_type": "code",
   "execution_count": null,
   "metadata": {},
   "outputs": [],
   "source": []
  }
 ],
 "metadata": {
  "kernelspec": {
   "display_name": "Python 3",
   "language": "python",
   "name": "python3"
  },
  "language_info": {
   "codemirror_mode": {
    "name": "ipython",
    "version": 3
   },
   "file_extension": ".py",
   "mimetype": "text/x-python",
   "name": "python",
   "nbconvert_exporter": "python",
   "pygments_lexer": "ipython3",
   "version": "3.6.6"
  }
 },
 "nbformat": 4,
 "nbformat_minor": 2
}
