{
 "cells": [
  {
   "cell_type": "code",
   "execution_count": 1,
   "metadata": {},
   "outputs": [],
   "source": [
    "import os\n",
    "\n",
    "from torch.utils.data import DataLoader\n",
    "\n",
    "from model import Dataset\n",
    "from model import collate_fn, build_pretrained_model"
   ]
  },
  {
   "cell_type": "markdown",
   "metadata": {},
   "source": [
    "# 1. Argument 설정"
   ]
  },
  {
   "cell_type": "markdown",
   "metadata": {},
   "source": [
    "## 1.1 Dataset Path"
   ]
  },
  {
   "cell_type": "code",
   "execution_count": 2,
   "metadata": {},
   "outputs": [],
   "source": [
    "dataset_path = 'dataset'\n",
    "\n",
    "train_query_path = os.path.join(dataset_path, 'smart_src.txt')\n",
    "train_gold_reply_path = os.path.join(dataset_path, 'smart_tgt.txt')\n",
    "train_gen_reply_path = None\n",
    "\n",
    "train_data_path_list = [train_query_path, train_gold_reply_path, train_gold_reply_path]"
   ]
  },
  {
   "cell_type": "markdown",
   "metadata": {},
   "source": [
    "# 1.2 OpenNMT Path\n",
    "OpenNMT Training시 사용 된 vocab.pt 파일과 Pretraining된 모델의 경로"
   ]
  },
  {
   "cell_type": "code",
   "execution_count": 3,
   "metadata": {},
   "outputs": [],
   "source": [
    "onmt_path = 'sample_onmt'\n",
    "\n",
    "onmt_vocab_path = os.path.join(onmt_path, 'sample.vocab.pt')\n",
    "onmt_model_path = os.path.join(onmt_path, 'sample.model.pt')"
   ]
  },
  {
   "cell_type": "markdown",
   "metadata": {},
   "source": [
    "# 1.3 Training Parameter"
   ]
  },
  {
   "cell_type": "code",
   "execution_count": 9,
   "metadata": {},
   "outputs": [],
   "source": [
    "batch_size = 4"
   ]
  },
  {
   "cell_type": "markdown",
   "metadata": {},
   "source": [
    "# 2. 객체 생성"
   ]
  },
  {
   "cell_type": "markdown",
   "metadata": {},
   "source": [
    "# 2.1 Dataset instance 생성\n",
    "Dataset 구축을 위해 OpenNMT vocab과 data file path list를 넘겨줌."
   ]
  },
  {
   "cell_type": "code",
   "execution_count": 5,
   "metadata": {},
   "outputs": [
    {
     "name": "stdout",
     "output_type": "stream",
     "text": [
      "[*] Loading onmt vocab dictionary...\n",
      "Number of dictionary : 23786 \n",
      "\n",
      "[*] Reading lines...\n",
      "Avg length of data 0 : 6.81\n",
      "Avg length of data 1 : 6.81\n",
      "Avg length of data 2 : 6.81\n",
      "\n",
      "Read 90729 sentence pairs\n",
      "Trim data to 90701 sentence pairs \n",
      "\n",
      "[*] Success to preprocess data! \n",
      "\n"
     ]
    }
   ],
   "source": [
    "# Training dataset 구축\n",
    "my_dataset = Dataset(\n",
    "    vocab_path=onmt_vocab_path,\n",
    "    data_path_list=train_data_path_list,\n",
    "    max_length=35\n",
    ")"
   ]
  },
  {
   "cell_type": "markdown",
   "metadata": {},
   "source": [
    "# 2.2 DataLoader instance 생성\n",
    "실제 학습 시 DataLoader 객체를 다음과 같이 iteration 시키면 알아서 Batch data를 iterate 해줌.\n",
    "\n",
    "```python\n",
    "for data1, data1_len, data2, data2_len in dataloader_instance:\n",
    "    # padding & packing 등 필요한 작업\n",
    "    # model 학습\n",
    "```\n",
    "\n",
    "DataLoader에서 던져주는 값들은 **각각의 데이터의 Batch와 Length들의 반복**으로 이루어져 있음. 예를 들어 위의 Example 상황 같은 경우, Batch size가 16이고 Query와 Gold reply, 2개의 데이터로 이루어져 있으므로 다음과 같이 던져주게 됨.\n",
    "\n",
    "* Query sentence 4개 tuple\n",
    "* Query sentence length 4개 tuple\n",
    "* Gold reply sentence 4개 tuple\n",
    "* Gold reply sentence length 4개 tuple\n",
    "\n",
    "만약 Gen reply까지 Dataset에 포함을 시키면 총 6개의 instance를 iterate 해줌"
   ]
  },
  {
   "cell_type": "code",
   "execution_count": 10,
   "metadata": {},
   "outputs": [],
   "source": [
    "my_data_loader = DataLoader(\n",
    "    dataset=my_dataset,\n",
    "    batch_size=batch_size,\n",
    "    collate_fn=collate_fn,\n",
    "    num_workers=16\n",
    ")"
   ]
  },
  {
   "cell_type": "code",
   "execution_count": 11,
   "metadata": {},
   "outputs": [
    {
     "data": {
      "text/plain": [
       "[([6, 5, 55, 3],\n",
       "  [54, 78, 3],\n",
       "  [6, 5, 470, 898, 458, 471, 5, 3207, 12, 777, 8, 67, 3],\n",
       "  [6, 5, 9, 11, 674, 0, 12170, 2]),\n",
       " (4, 3, 13, 8),\n",
       " ([54, 78, 3],\n",
       "  [6, 5, 470, 898, 458, 471, 5, 3207, 12, 777, 8, 67, 3],\n",
       "  [6, 5, 9, 11, 674, 0, 12170, 2],\n",
       "  [6, 2]),\n",
       " (3, 13, 8, 2),\n",
       " ([54, 78, 3],\n",
       "  [6, 5, 470, 898, 458, 471, 5, 3207, 12, 777, 8, 67, 3],\n",
       "  [6, 5, 9, 11, 674, 0, 12170, 2],\n",
       "  [6, 2]),\n",
       " (3, 13, 8, 2)]"
      ]
     },
     "execution_count": 11,
     "metadata": {},
     "output_type": "execute_result"
    }
   ],
   "source": [
    "# Example\n",
    "next(iter(my_data_loader))"
   ]
  },
  {
   "cell_type": "markdown",
   "metadata": {},
   "source": [
    "# 2.3 OpenNMT 모델 로드\n",
    "OpenNMT의 pretrained embedding과 rnn의 parameter를 땡겨옴.\n",
    "\n",
    "Sample은 Embedding dimension 10, RNN size 15의 Tiny model임."
   ]
  },
  {
   "cell_type": "code",
   "execution_count": 12,
   "metadata": {},
   "outputs": [
    {
     "name": "stdout",
     "output_type": "stream",
     "text": [
      "Loading pretrained model... \n",
      "\n",
      "RNNEncoder(\n",
      "  (embeddings): Embeddings(\n",
      "    (make_embedding): Sequential(\n",
      "      (emb_luts): Elementwise(\n",
      "        (0): Embedding(23786, 10, padding_idx=1)\n",
      "      )\n",
      "    )\n",
      "  )\n",
      "  (rnn): GRU(10, 15, bidirectional=True)\n",
      ") \n",
      "\n"
     ]
    }
   ],
   "source": [
    "encoder = build_pretrained_model(onmt_model_path, my_dataset.vocab)"
   ]
  },
  {
   "cell_type": "code",
   "execution_count": null,
   "metadata": {},
   "outputs": [],
   "source": []
  }
 ],
 "metadata": {
  "kernelspec": {
   "display_name": "Python 3",
   "language": "python",
   "name": "python3"
  },
  "language_info": {
   "codemirror_mode": {
    "name": "ipython",
    "version": 3
   },
   "file_extension": ".py",
   "mimetype": "text/x-python",
   "name": "python",
   "nbconvert_exporter": "python",
   "pygments_lexer": "ipython3",
   "version": "3.6.6"
  }
 },
 "nbformat": 4,
 "nbformat_minor": 2
}
